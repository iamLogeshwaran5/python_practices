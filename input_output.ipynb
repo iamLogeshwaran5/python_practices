{
  "nbformat": 4,
  "nbformat_minor": 0,
  "metadata": {
    "colab": {
      "provenance": [],
      "authorship_tag": "ABX9TyN60X1ZYlxHq/tB+vDH55DZ",
      "include_colab_link": true
    },
    "kernelspec": {
      "name": "python3",
      "display_name": "Python 3"
    },
    "language_info": {
      "name": "python"
    }
  },
  "cells": [
    {
      "cell_type": "markdown",
      "metadata": {
        "id": "view-in-github",
        "colab_type": "text"
      },
      "source": [
        "<a href=\"https://colab.research.google.com/github/iamLogeshwaran5/python_practices/blob/main/input_output.ipynb\" target=\"_parent\"><img src=\"https://colab.research.google.com/assets/colab-badge.svg\" alt=\"Open In Colab\"/></a>"
      ]
    },
    {
      "cell_type": "markdown",
      "source": [
        "**Input/Output**"
      ],
      "metadata": {
        "id": "kodVqnlP3xJ0"
      }
    },
    {
      "cell_type": "markdown",
      "source": [
        "1.Write a code to get the input in the given format and print the output in the given format\n",
        "\n",
        "Input Description:\n",
        "To take an integer value\n",
        "\n",
        "Output Description:\n",
        "Print the integer value\n",
        "\n",
        "Sample Input :\n",
        "2\n",
        "Sample Output :\n",
        "2"
      ],
      "metadata": {
        "id": "MOpEVEcu36e2"
      }
    },
    {
      "cell_type": "code",
      "source": [
        "a = input()\n",
        "\n",
        "print (a)"
      ],
      "metadata": {
        "colab": {
          "base_uri": "https://localhost:8080/"
        },
        "id": "G-oNZdCM4Kdx",
        "outputId": "5d7eb8d0-6b0a-435e-a74a-b167314b59d4"
      },
      "execution_count": null,
      "outputs": [
        {
          "output_type": "stream",
          "name": "stdout",
          "text": [
            "2\n",
            "2\n"
          ]
        }
      ]
    },
    {
      "cell_type": "markdown",
      "source": [
        "2.Write a code to get the input in the given format and print the output in the given format\n",
        "\n",
        "Input Description:\n",
        "A single line contains integers separated by space\n",
        "\n",
        "Output Description:\n",
        "Print the integer list of integers separated by space\n",
        "\n",
        "Sample Input :\n",
        "2 3 4 5 6 7 8\n",
        "Sample Output :\n",
        "2 3 4 5 6 7 8"
      ],
      "metadata": {
        "id": "qX9kqTC04ZD3"
      }
    },
    {
      "cell_type": "code",
      "source": [
        "# Get input\n",
        "input_numbers = input().split()\n",
        "\n",
        "# Print output\n",
        "output = ' '.join(input_numbers)\n",
        "print(output)\n"
      ],
      "metadata": {
        "colab": {
          "base_uri": "https://localhost:8080/"
        },
        "id": "ZKzARDTc4dfl",
        "outputId": "5f30a5d5-6e9c-476a-b4be-765bc848217c"
      },
      "execution_count": null,
      "outputs": [
        {
          "output_type": "stream",
          "name": "stdout",
          "text": [
            "2 3 4 5 6 7 8\n",
            "2 3 4 5 6 7 8\n"
          ]
        }
      ]
    },
    {
      "cell_type": "markdown",
      "source": [
        "3.Write a code to get the input in the given format and print the output in the given format.\n",
        "\n",
        "Input Description:\n",
        "First-line indicates two integers which are the size of array and 'K' value. Second-line indicates an integer contains elements of an array.\n",
        "\n",
        "Output Description:\n",
        "Print the taken input in the same format.\n",
        "\n",
        "Sample Input :\n",
        "\n",
        "\n",
        "5 3\n",
        "\n",
        "\n",
        "\n",
        "1 2 3 4 5\n",
        "\n",
        "Sample Output :\n",
        "\n",
        "\n",
        "5 3\n",
        "\n",
        "1 2 3 4 5"
      ],
      "metadata": {
        "id": "ib68FGSG4wzO"
      }
    },
    {
      "cell_type": "code",
      "source": [
        "# Getting input in the given format\n",
        "n, k = map(int, input().split())\n",
        "arr = list(map(int, input().split()))\n",
        "\n",
        "# Printing output in the given format\n",
        "print(n, k)\n",
        "print(*arr)  # The * operator unpacks the list as individual elements separated by space\n"
      ],
      "metadata": {
        "colab": {
          "base_uri": "https://localhost:8080/"
        },
        "id": "RZwMSDcIZSDA",
        "outputId": "1e6a8641-444c-4b57-8340-c62f491ab972"
      },
      "execution_count": 1,
      "outputs": [
        {
          "output_type": "stream",
          "name": "stdout",
          "text": [
            "5 3\n",
            "1 2 3 4 5\n",
            "5 3\n",
            "1 2 3 4 5\n"
          ]
        }
      ]
    },
    {
      "cell_type": "markdown",
      "source": [
        "4.Write a code to get the input in the given format and print the output in the given format\n",
        "\n",
        "Input Description:\n",
        "First-line indicates two integers separated by space. Second-line indicates two integers separated by space. Third-line indicates two integers separated by space.\n",
        "\n",
        "Output Description:\n",
        "Print the input in the same format.\n",
        "\n",
        "Sample Input :\n",
        "2 4\n",
        "\n",
        "2 4\n",
        "\n",
        "2 4\n",
        "\n",
        "Sample Output :\n",
        "\n",
        "2 4\n",
        "\n",
        "\n",
        "2 4\n",
        "\n",
        "2 4\n"
      ],
      "metadata": {
        "id": "afPywc98cbIu"
      }
    },
    {
      "cell_type": "code",
      "source": [
        "x = input()\n",
        "print(x)\n",
        "\n",
        "x = input()\n",
        "print(x)\n",
        "\n",
        "x = input()\n",
        "print(x)"
      ],
      "metadata": {
        "colab": {
          "base_uri": "https://localhost:8080/"
        },
        "id": "U3hxCAx-dbzU",
        "outputId": "25e7e79e-5c89-4b27-99af-0a09e62adb38"
      },
      "execution_count": 2,
      "outputs": [
        {
          "output_type": "stream",
          "name": "stdout",
          "text": [
            "2 4\n",
            "2 4\n",
            "2 4\n",
            "2 4\n",
            "2 4\n",
            "2 4\n"
          ]
        }
      ]
    },
    {
      "cell_type": "markdown",
      "source": [
        "5.Write a code to get the input in the given format and print the output in the given format\n",
        "\n",
        "Input Description:\n",
        "Three integers are given in line by line.\n",
        "\n",
        "Output Description:\n",
        "Print the integers in a single line separate by space.\n",
        "\n",
        "Sample Input :\n",
        "\n",
        "2\n",
        "\n",
        "4\n",
        "\n",
        "5\n",
        "\n",
        "Sample Output :\n",
        "2 4 5\n"
      ],
      "metadata": {
        "id": "X3NYcN2vd1Ut"
      }
    },
    {
      "cell_type": "code",
      "source": [
        "x = input()\n",
        "y = input()\n",
        "z = input()\n",
        "print(x,y,z)\n",
        "\n",
        "\n"
      ],
      "metadata": {
        "colab": {
          "base_uri": "https://localhost:8080/"
        },
        "id": "BGEy8FvBeBBh",
        "outputId": "73e0df2e-8f25-46a2-9bc3-1ff84e16fbec"
      },
      "execution_count": 3,
      "outputs": [
        {
          "output_type": "stream",
          "name": "stdout",
          "text": [
            "2\n",
            "4\n",
            "5\n",
            "2 4 5\n"
          ]
        }
      ]
    },
    {
      "cell_type": "markdown",
      "source": [
        "6.Write a code to get the input in the given format and print the output in the given format\n",
        "\n",
        "Input Description:\n",
        "First-line indicates two integers separated by space. Second-line indicates three integers separated by space. Third-line indicates three integers separated by space\n",
        "\n",
        "Output Description:\n",
        "Print the input in the same format.\n",
        "\n",
        "Sample Input :\n",
        "\n",
        "2 5\n",
        "\n",
        "2 5 6\n",
        "\n",
        "2 4 5\n",
        "\n",
        "Sample Output :\n",
        "\n",
        "2 5\n",
        "\n",
        "2 5 6\n",
        "\n",
        "2 4 5"
      ],
      "metadata": {
        "id": "l4P9RbOjeJEW"
      }
    },
    {
      "cell_type": "code",
      "source": [
        "X = input()\n",
        "print (X)\n",
        "Y = input()\n",
        "print (Y)\n",
        "Z = input()\n",
        "print (Z)"
      ],
      "metadata": {
        "colab": {
          "base_uri": "https://localhost:8080/"
        },
        "id": "U-G52Y5deaPM",
        "outputId": "a08eec3d-f613-4721-fe0e-d030963f69f9"
      },
      "execution_count": 4,
      "outputs": [
        {
          "output_type": "stream",
          "name": "stdout",
          "text": [
            "2 5\n",
            "2 5\n",
            "2  5  6\n",
            "2  5  6\n",
            "2  4  5\n",
            "2  4  5\n"
          ]
        }
      ]
    },
    {
      "cell_type": "markdown",
      "source": [
        "7.Write a code to get the input in the given format and print the output in the given format\n",
        "\n",
        "Input Description:\n",
        "A single line contains a string.\n",
        "\n",
        "Output Description:\n",
        "Print the characters in a string separated by space.\n",
        "\n",
        "Sample Input :\n",
        "guvi\n",
        "Sample Output :\n",
        "g u v i"
      ],
      "metadata": {
        "id": "dNlGpa43emwT"
      }
    },
    {
      "cell_type": "code",
      "source": [
        "x = input()\n",
        "print(*x)"
      ],
      "metadata": {
        "colab": {
          "base_uri": "https://localhost:8080/"
        },
        "id": "9dcZpPGNevFL",
        "outputId": "990f5fae-7410-41a5-c583-a9cea5bdba05"
      },
      "execution_count": 5,
      "outputs": [
        {
          "output_type": "stream",
          "name": "stdout",
          "text": [
            "guvi\n",
            "g u v i\n"
          ]
        }
      ]
    },
    {
      "cell_type": "markdown",
      "source": [
        "8.Write a code to get the input in the given format and print the output in the given format.\n",
        "\n",
        "Input Description:\n",
        "A single line contains three float values separated by space.\n",
        "\n",
        "Output Description:\n",
        "Print the float value separated by line.\n",
        "\n",
        "Sample Input :\n",
        "2.3 4.5 7.8\n",
        "Sample Output :\n",
        "2.3\n",
        "4.5\n",
        "7.8"
      ],
      "metadata": {
        "id": "xNYwOiuoe7gT"
      }
    },
    {
      "cell_type": "code",
      "source": [
        "values = input().split()\n",
        "\n",
        "for value in values:\n",
        "      print(float(value))\n"
      ],
      "metadata": {
        "colab": {
          "base_uri": "https://localhost:8080/"
        },
        "id": "mjd1UiRHfKg-",
        "outputId": "26716b87-ef3e-4f17-df5a-f8d376ee5809"
      },
      "execution_count": 6,
      "outputs": [
        {
          "output_type": "stream",
          "name": "stdout",
          "text": [
            "2.3 4.5 7.8\n",
            "2.3\n",
            "4.5\n",
            "7.8\n"
          ]
        }
      ]
    },
    {
      "cell_type": "markdown",
      "source": [
        "9.Write a code to get the input in the given format and print the output in the given format.\n",
        "\n",
        "Input Description:\n",
        "A single line contains a string.\n",
        "\n",
        "Output Description:\n",
        "Print the characters in a string separated by line.\n",
        "\n",
        "Sample Input :\n",
        "guvigeek\n",
        "Sample Output :\n",
        "\n",
        "g\n",
        "\n",
        "u\n",
        "\n",
        "v\n",
        "\n",
        "i\n",
        "\n",
        "g\n",
        "\n",
        "e\n",
        "\n",
        "e\n",
        "\n",
        "k\n"
      ],
      "metadata": {
        "id": "O1x46H_6fS7m"
      }
    },
    {
      "cell_type": "code",
      "source": [
        "string = input()\n",
        "\n",
        "for single in string:\n",
        "    print(single)\n"
      ],
      "metadata": {
        "colab": {
          "base_uri": "https://localhost:8080/"
        },
        "id": "PKbJC_uhfTw1",
        "outputId": "bf7c1269-3336-4b0c-8cf1-12d8380ab7eb"
      },
      "execution_count": 7,
      "outputs": [
        {
          "output_type": "stream",
          "name": "stdout",
          "text": [
            "guvigeek\n",
            "g\n",
            "u\n",
            "v\n",
            "i\n",
            "g\n",
            "e\n",
            "e\n",
            "k\n"
          ]
        }
      ]
    },
    {
      "cell_type": "markdown",
      "source": [
        "10.Write a code to get the input in the given format and print the output in the given format.\n",
        "\n",
        "Input Description:\n",
        "A single line contains a string.\n",
        "\n",
        "Output Description:\n",
        "Print the characters in a string separated by comma.\n",
        "\n",
        "Sample Input :\n",
        "guvi\n",
        "Sample Output :\n",
        "g,u,v,i"
      ],
      "metadata": {
        "id": "T78xTE4kf17M"
      }
    },
    {
      "cell_type": "code",
      "source": [
        "string = input()\n",
        "print(\",\".join(string))\n"
      ],
      "metadata": {
        "colab": {
          "base_uri": "https://localhost:8080/"
        },
        "id": "oEA-jKMYf2Wd",
        "outputId": "c1c61a5b-0a5d-48be-aa69-7d2e7fd16fe1"
      },
      "execution_count": 8,
      "outputs": [
        {
          "output_type": "stream",
          "name": "stdout",
          "text": [
            "guvi\n",
            "g,u,v,i\n"
          ]
        }
      ]
    }
  ]
}