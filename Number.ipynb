{
  "nbformat": 4,
  "nbformat_minor": 0,
  "metadata": {
    "colab": {
      "provenance": [],
      "authorship_tag": "ABX9TyOcOD2vHAJQffDqvioby1/4",
      "include_colab_link": true
    },
    "kernelspec": {
      "name": "python3",
      "display_name": "Python 3"
    },
    "language_info": {
      "name": "python"
    }
  },
  "cells": [
    {
      "cell_type": "markdown",
      "metadata": {
        "id": "view-in-github",
        "colab_type": "text"
      },
      "source": [
        "<a href=\"https://colab.research.google.com/github/iamLogeshwaran5/python_practices/blob/main/Number.ipynb\" target=\"_parent\"><img src=\"https://colab.research.google.com/assets/colab-badge.svg\" alt=\"Open In Colab\"/></a>"
      ]
    },
    {
      "cell_type": "markdown",
      "source": [
        "You are given with a number ‘n’. You have to count the pair of two numbers a and b such that sum of two numbers are equal to n.\n",
        "\n",
        "\n",
        "\n",
        "Note:Both numbers lie in range 1<=a,b<n\n",
        "\n",
        "Input Description:\n",
        "You are given a number ‘n’\n",
        "\n",
        "Output Description:\n",
        "Print the number of pairs satisfying above condition\n",
        "\n",
        "Sample Input :\n",
        "5\n",
        "\n",
        "\n",
        "Sample Output :\n",
        "4"
      ],
      "metadata": {
        "id": "fAo9rHd-X1nx"
      }
    },
    {
      "cell_type": "code",
      "source": [
        "n = int(input())\n",
        "n = n - 1\n",
        "print(n)\n"
      ],
      "metadata": {
        "colab": {
          "base_uri": "https://localhost:8080/"
        },
        "id": "cnZMcHuIX1HC",
        "outputId": "3531e838-b133-4fba-e1b3-cbb14080a004"
      },
      "execution_count": 1,
      "outputs": [
        {
          "output_type": "stream",
          "name": "stdout",
          "text": [
            "5\n",
            "4\n"
          ]
        }
      ]
    },
    {
      "cell_type": "markdown",
      "source": [
        "You are provided with a number ’n’. Your task is to tell whether that number is saturated. A saturated number is a number which is made by exactly two digits.\n",
        "\n",
        "Input Description:\n",
        "You are given with a number n.\n",
        "\n",
        "Output Description:\n",
        "Print Saturated if it is saturated else it is Unsaturated\n",
        "\n",
        "Sample Input :\n",
        "121\n",
        "\n",
        "\n",
        "Sample Output :\n",
        "Saturated"
      ],
      "metadata": {
        "id": "_cE5hA-eYJr5"
      }
    },
    {
      "cell_type": "code",
      "source": [
        "def is_saturated(number):\n",
        "    # Convert the number to a string to count unique digits\n",
        "    num_str = str(number)\n",
        "\n",
        "    # Count the number of unique digits\n",
        "    unique_digits = set(num_str)\n",
        "\n",
        "    # Check if there are exactly 2 unique digits and the length of the set is 2\n",
        "    if len(unique_digits) == 2:\n",
        "        return \"Saturated\"\n",
        "    else:\n",
        "        return \"Unsaturated\"\n",
        "\n",
        "# Taking input from the user\n",
        "n = int(input(\"Enter a number: \"))\n",
        "\n",
        "# Check if the number is saturated or not and print the result\n",
        "result = is_saturated(n)\n",
        "print(result)\n"
      ],
      "metadata": {
        "colab": {
          "base_uri": "https://localhost:8080/"
        },
        "id": "nuuh6Ik6YKLZ",
        "outputId": "606d1ee0-a50a-447e-b88e-a4dc59e70530"
      },
      "execution_count": 2,
      "outputs": [
        {
          "output_type": "stream",
          "name": "stdout",
          "text": [
            "Enter a number: 121\n",
            "Saturated\n"
          ]
        }
      ]
    }
  ]
}