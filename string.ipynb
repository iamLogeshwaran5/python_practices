{
  "nbformat": 4,
  "nbformat_minor": 0,
  "metadata": {
    "colab": {
      "provenance": [],
      "authorship_tag": "ABX9TyNs0wYnk66gzfbrEzNvYMB9",
      "include_colab_link": true
    },
    "kernelspec": {
      "name": "python3",
      "display_name": "Python 3"
    },
    "language_info": {
      "name": "python"
    }
  },
  "cells": [
    {
      "cell_type": "markdown",
      "metadata": {
        "id": "view-in-github",
        "colab_type": "text"
      },
      "source": [
        "<a href=\"https://colab.research.google.com/github/iamLogeshwaran5/python_practices/blob/main/string.ipynb\" target=\"_parent\"><img src=\"https://colab.research.google.com/assets/colab-badge.svg\" alt=\"Open In Colab\"/></a>"
      ]
    },
    {
      "cell_type": "markdown",
      "source": [
        "#                                           **String**\n",
        "\n",
        "\n"
      ],
      "metadata": {
        "id": "lhK9Xv3IkGNx"
      }
    },
    {
      "cell_type": "markdown",
      "source": [
        " 1.Radha newly learnt about palindromic strings.A palindromic string is a string which is same when read from left to right and also from right to left.Help her in implementing the logic.\n",
        "\n",
        "\n",
        "\n",
        "Input Description:\n",
        "You are given a String ‘s’\n",
        "\n",
        "Output Description:\n",
        "Print 1 if String is palindrome or 0 if not\n",
        "\n",
        "Sample Input :\n",
        "NITIN\n",
        "Sample Output :\n",
        "1"
      ],
      "metadata": {
        "id": "sbL6neFoj_7f"
      }
    },
    {
      "cell_type": "code",
      "source": [
        "def is_palindrome(s):\n",
        "    # Reverse the string and compare with the original string\n",
        "    return s == s[::-1]\n",
        "\n",
        "# Get input\n",
        "input_string = input().strip()\n",
        "\n",
        "# Check if input string is palindrome or not\n",
        "if is_palindrome(input_string):\n",
        "    print(1)  # Output 1 if the string is a palindrome\n",
        "else:\n",
        "    print(0)  # Output 0 if the string is not a palindrome\n"
      ],
      "metadata": {
        "colab": {
          "base_uri": "https://localhost:8080/"
        },
        "id": "pyt7spTGkb4L",
        "outputId": "a89ad7d3-caa2-40a1-ed2f-81462bf190a7"
      },
      "execution_count": null,
      "outputs": [
        {
          "output_type": "stream",
          "name": "stdout",
          "text": [
            "NITIN\n",
            "1\n"
          ]
        }
      ]
    },
    {
      "cell_type": "markdown",
      "source": [
        "2.You are given two numbers. Your task is to multiply the two numbers and print the answer.\n",
        "\n",
        "Input Description:\n",
        "You are given two numbers ‘n’ and ‘m’.\n",
        "\n",
        "Output Description:\n",
        "Print the multiplied answer\n",
        "\n",
        "Sample Input :\n",
        "99999 99998\n",
        "Sample Output :\n",
        "9999700002"
      ],
      "metadata": {
        "id": "8veLE7LBnL52"
      }
    },
    {
      "cell_type": "code",
      "source": [
        "# Get input\n",
        "n, m = map(int, input().split())\n",
        "\n",
        "# Multiply the numbers\n",
        "result = n * m\n",
        "\n",
        "# Print the multiplied answer\n",
        "print(result)\n"
      ],
      "metadata": {
        "colab": {
          "base_uri": "https://localhost:8080/"
        },
        "id": "5CRRHlUAnRQD",
        "outputId": "8bb1ce85-354d-4cf8-b0a6-4e3cef5252eb"
      },
      "execution_count": null,
      "outputs": [
        {
          "output_type": "stream",
          "name": "stdout",
          "text": [
            "99999 99998\n",
            "9999700002\n"
          ]
        }
      ]
    },
    {
      "cell_type": "markdown",
      "source": [
        "3. Jennyfer is fond of strings. She wants to read the character from right to left (reverse the string), so she wants you to design a suitable algorithm which satisfy her desire.\n",
        "\n",
        "Input Description:\n",
        "Enter the string ‘s’\n",
        "\n",
        "Output Description:\n",
        "Print the string from characters right to left.\n",
        "\n",
        "Sample Input :\n",
        "jennyfer\n",
        "Sample Output :\n",
        "Refynnej\n"
      ],
      "metadata": {
        "id": "F49bxWwtlGP8"
      }
    },
    {
      "cell_type": "code",
      "source": [
        "# Input the string\n",
        "s = input(\"Enter the string: \")\n",
        "\n",
        "# Reverse the string and capitalize the first letter\n",
        "reversed_string = s[::-1].capitalize()\n",
        "\n",
        "# Print the reversed string\n",
        "print(\"Reversed string:\", reversed_string)\n"
      ],
      "metadata": {
        "colab": {
          "base_uri": "https://localhost:8080/"
        },
        "id": "KFSyZGkrlO-V",
        "outputId": "cc78a6b8-6645-4859-978b-25374b674898"
      },
      "execution_count": 2,
      "outputs": [
        {
          "output_type": "stream",
          "name": "stdout",
          "text": [
            "Enter the string: jennyfer\n",
            "Reversed string: Refynnej\n"
          ]
        }
      ]
    },
    {
      "cell_type": "markdown",
      "source": [
        "4.Joyal was given a sentence. His task is to delete the two words that comes together and print the sentence so that the words in the output sentence have distinct words compared to their adjacent words. If no words are present in the output sentence print -1\n",
        "\n",
        "Input Description:\n",
        "You are given input string 'S'\n",
        "\n",
        "Output Description:\n",
        "Print the all the words that are left in the string 's' so that the words in the output sentence have distinct words compared to their adjacent words. Print -1 if no words are left\n",
        "\n",
        "Sample Input :\n",
        "I am john cena cena john\n",
        "\n",
        "\n",
        "Sample Output :\n",
        "I am"
      ],
      "metadata": {
        "id": "2-kghYRElXwb"
      }
    },
    {
      "cell_type": "code",
      "source": [
        "# Input the sentence\n",
        "sentence = input(\"Enter the sentence: \")\n",
        "\n",
        "# Split the sentence into words\n",
        "words = sentence.split()\n",
        "\n",
        "print(words)\n",
        "# Initialize a list to store unique words\n",
        "result = []\n",
        "\n",
        "# Iterate through the words, keeping track of the last word added\n",
        "last_word = None\n",
        "for word in words:\n",
        "    if word != last_word:\n",
        "        result.append(word)\n",
        "        last_word = word\n",
        "\n",
        "# Check if any words are left in the result list and print accordingly\n",
        "if len(result) > 0:\n",
        "    print(\" \".join(result))\n",
        "else:\n",
        "    print(\"-1\")\n"
      ],
      "metadata": {
        "colab": {
          "base_uri": "https://localhost:8080/"
        },
        "id": "4pulcQ-7morL",
        "outputId": "6e81c724-dd09-4349-a328-a7ceb12c61fa"
      },
      "execution_count": 8,
      "outputs": [
        {
          "output_type": "stream",
          "name": "stdout",
          "text": [
            "Enter the sentence: I am john cena cena john\n",
            "['I', 'am', 'john', 'cena', 'cena', 'john']\n",
            "I am john cena john\n"
          ]
        }
      ]
    },
    {
      "cell_type": "code",
      "source": [
        "sentence = input().split()\n",
        "words = sentence.split()\n",
        "\n",
        "for index, sd in enumerate(words):\n",
        "    print(sd)\n",
        "    if index == 1:\n",
        "        break\n"
      ],
      "metadata": {
        "colab": {
          "base_uri": "https://localhost:8080/"
        },
        "id": "XZdoOT8kre5E",
        "outputId": "5f90d870-33bf-4295-8647-081182554599"
      },
      "execution_count": 21,
      "outputs": [
        {
          "output_type": "stream",
          "name": "stdout",
          "text": [
            "i am Logeshwaran\n",
            "i\n",
            "am\n"
          ]
        }
      ]
    },
    {
      "cell_type": "code",
      "source": [
        "my_list = ['apple', 'banana', 'cherry', 'date', 'elderberry', 'fig', 'grape', 'honeydew']\n",
        "\n",
        "# Remove the first two elements from the list\n",
        "my_list = my_list[:2]\n",
        "\n",
        "# Continuously remove pairs of elements from the list until there are fewer than two elements left\n",
        "#while len(my_list) >= 2:\n",
        " #   my_list = my_list[2:]\n",
        "\n",
        "print(\"Updated list:\", my_list)\n"
      ],
      "metadata": {
        "colab": {
          "base_uri": "https://localhost:8080/"
        },
        "id": "12BfM-3Izkjx",
        "outputId": "19c5e688-4837-4ec3-e8b9-6f8b2197d66f"
      },
      "execution_count": 27,
      "outputs": [
        {
          "output_type": "stream",
          "name": "stdout",
          "text": [
            "Updated list: ['apple', 'banana']\n"
          ]
        }
      ]
    },
    {
      "cell_type": "code",
      "source": [
        "sentence = input().split()\n",
        "now=sentence[:2]\n",
        "print(' '.join(now))\n"
      ],
      "metadata": {
        "colab": {
          "base_uri": "https://localhost:8080/"
        },
        "id": "dXkoyh6N0ufE",
        "outputId": "02461bd9-1655-48c5-f958-75a703ea83cb"
      },
      "execution_count": 30,
      "outputs": [
        {
          "output_type": "stream",
          "name": "stdout",
          "text": [
            "i am logesh\n",
            "i am\n"
          ]
        }
      ]
    },
    {
      "cell_type": "code",
      "source": [
        "def distinct_adjacent_words(s):\n",
        "    words = s.split()\n",
        "\n",
        "    if len(words) < 3:\n",
        "        print(\" \".join(words))  # If there are 2 or fewer words, print the original string\n",
        "        return\n",
        "\n",
        "    distinct_words = []\n",
        "    distinct_words.append(words[0])  # Always add the first word\n",
        "\n",
        "    for i in range(1, len(words) - 1):\n",
        "        if words[i] != words[i - 1] and words[i] != words[i + 1]:\n",
        "            distinct_words.append(words[i])\n",
        "\n",
        "    distinct_words.append(words[-1])  # Always add the last word\n",
        "\n",
        "    if len(distinct_words) > 1:\n",
        "        print(\" \".join(distinct_words))\n",
        "    else:\n",
        "        print(\"-1\")\n",
        "\n",
        "# Example string\n",
        "s = input()\n",
        "\n",
        "# Call the function with the given string\n",
        "distinct_adjacent_words(s)\n"
      ],
      "metadata": {
        "colab": {
          "base_uri": "https://localhost:8080/"
        },
        "id": "b51fjg_22fEn",
        "outputId": "9af712c0-74cf-476a-87ac-d20a68e953d7"
      },
      "execution_count": 32,
      "outputs": [
        {
          "output_type": "stream",
          "name": "stdout",
          "text": [
            "I am logesh\n",
            "I am logesh\n"
          ]
        }
      ]
    }
  ]
}