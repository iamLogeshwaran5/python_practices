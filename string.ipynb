{
  "nbformat": 4,
  "nbformat_minor": 0,
  "metadata": {
    "colab": {
      "provenance": [],
      "authorship_tag": "ABX9TyOzZZdlV0jmpIh8WavVU/WF",
      "include_colab_link": true
    },
    "kernelspec": {
      "name": "python3",
      "display_name": "Python 3"
    },
    "language_info": {
      "name": "python"
    }
  },
  "cells": [
    {
      "cell_type": "markdown",
      "metadata": {
        "id": "view-in-github",
        "colab_type": "text"
      },
      "source": [
        "<a href=\"https://colab.research.google.com/github/iamLogeshwaran5/python_practices/blob/main/string.ipynb\" target=\"_parent\"><img src=\"https://colab.research.google.com/assets/colab-badge.svg\" alt=\"Open In Colab\"/></a>"
      ]
    },
    {
      "cell_type": "markdown",
      "source": [
        "#                                           **String**\n",
        "\n",
        "\n"
      ],
      "metadata": {
        "id": "lhK9Xv3IkGNx"
      }
    },
    {
      "cell_type": "markdown",
      "source": [
        " 1.Radha newly learnt about palindromic strings.A palindromic string is a string which is same when read from left to right and also from right to left.Help her in implementing the logic.\n",
        "\n",
        "\n",
        "\n",
        "Input Description:\n",
        "You are given a String ‘s’\n",
        "\n",
        "Output Description:\n",
        "Print 1 if String is palindrome or 0 if not\n",
        "\n",
        "Sample Input :\n",
        "NITIN\n",
        "Sample Output :\n",
        "1"
      ],
      "metadata": {
        "id": "sbL6neFoj_7f"
      }
    },
    {
      "cell_type": "code",
      "source": [
        "def is_palindrome(s):\n",
        "    # Reverse the string and compare with the original string\n",
        "    return s == s[::-1]\n",
        "\n",
        "# Get input\n",
        "input_string = input().strip()\n",
        "\n",
        "# Check if input string is palindrome or not\n",
        "if is_palindrome(input_string):\n",
        "    print(1)  # Output 1 if the string is a palindrome\n",
        "else:\n",
        "    print(0)  # Output 0 if the string is not a palindrome\n"
      ],
      "metadata": {
        "colab": {
          "base_uri": "https://localhost:8080/"
        },
        "id": "pyt7spTGkb4L",
        "outputId": "a89ad7d3-caa2-40a1-ed2f-81462bf190a7"
      },
      "execution_count": 5,
      "outputs": [
        {
          "output_type": "stream",
          "name": "stdout",
          "text": [
            "NITIN\n",
            "1\n"
          ]
        }
      ]
    },
    {
      "cell_type": "markdown",
      "source": [
        "2.You are given two numbers. Your task is to multiply the two numbers and print the answer.\n",
        "\n",
        "Input Description:\n",
        "You are given two numbers ‘n’ and ‘m’.\n",
        "\n",
        "Output Description:\n",
        "Print the multiplied answer\n",
        "\n",
        "Sample Input :\n",
        "99999 99998\n",
        "Sample Output :\n",
        "9999700002"
      ],
      "metadata": {
        "id": "8veLE7LBnL52"
      }
    },
    {
      "cell_type": "code",
      "source": [
        "# Get input\n",
        "n, m = map(int, input().split())\n",
        "\n",
        "# Multiply the numbers\n",
        "result = n * m\n",
        "\n",
        "# Print the multiplied answer\n",
        "print(result)\n"
      ],
      "metadata": {
        "colab": {
          "base_uri": "https://localhost:8080/"
        },
        "id": "5CRRHlUAnRQD",
        "outputId": "8bb1ce85-354d-4cf8-b0a6-4e3cef5252eb"
      },
      "execution_count": 6,
      "outputs": [
        {
          "output_type": "stream",
          "name": "stdout",
          "text": [
            "99999 99998\n",
            "9999700002\n"
          ]
        }
      ]
    }
  ]
}