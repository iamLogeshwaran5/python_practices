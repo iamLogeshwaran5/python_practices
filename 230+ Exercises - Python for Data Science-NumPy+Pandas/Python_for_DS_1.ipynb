{
  "nbformat": 4,
  "nbformat_minor": 0,
  "metadata": {
    "colab": {
      "provenance": [],
      "authorship_tag": "ABX9TyNuf9hwlC7AQozQyY6K98n8"
    },
    "kernelspec": {
      "name": "python3",
      "display_name": "Python 3"
    },
    "language_info": {
      "name": "python"
    }
  },
  "cells": [
    {
      "cell_type": "markdown",
      "source": [
        "# **Introduction to NumPy**\n",
        "\n",
        "[Click here to view the Google Docs](https://docs.google.com/document/d/1YrWuavdvZv8tUW2LwK5ECZKKyFZ4p95SEP4MyexnlLo/edit?usp=sharing)\n"
      ],
      "metadata": {
        "id": "ASlscWDKYXr9"
      }
    },
    {
      "cell_type": "markdown",
      "source": [
        "# Import the Numpy library and print its version to the console.\n",
        "\n",
        "## Expected result:\n",
        "### Installed version will print in console\n",
        "\n",
        "\n",
        "\n"
      ],
      "metadata": {
        "id": "bOswXMklYyjw"
      }
    },
    {
      "cell_type": "code",
      "source": [
        "import numpy as np\n",
        "\n",
        "print(\"numpy version \", np.__version__)"
      ],
      "metadata": {
        "colab": {
          "base_uri": "https://localhost:8080/"
        },
        "id": "dFeUw5-MYhG8",
        "outputId": "7af767bb-47a6-40aa-8bbf-9b8dee0f4d8b"
      },
      "execution_count": 5,
      "outputs": [
        {
          "output_type": "stream",
          "name": "stdout",
          "text": [
            "numpy version  1.25.2\n"
          ]
        }
      ]
    },
    {
      "cell_type": "markdown",
      "source": [
        "\n",
        "```markdown\n",
        "1.Check if all elements from the following arrays return the logical value True:\n",
        "\n",
        "\n",
        "A = np.array([[3, 2, 1, 4],\n",
        "              [5, 2, 1, 6]])\n",
        "\n",
        "B = np.array([[3, 2, 1, 4],\n",
        "              [5, 2, 0, 6]])\n",
        "\n",
        "C = np.array([[True, False, False],\n",
        "              [True, True, True]])\n",
        "\n",
        "D = np.array([0.1, 0.3])\n",
        "```\n",
        "\n",
        "Print result to the console as shown below.\n",
        "\n",
        "Tip: Use the function `np.all()`.\n",
        "\n",
        "Expected result:\n",
        "\n",
        "```\n",
        "A: True\n",
        "B: False\n",
        "C: False\n",
        "D: True\n",
        "```"
      ],
      "metadata": {
        "id": "WoRp1D6Lc7Cw"
      }
    },
    {
      "cell_type": "code",
      "source": [
        "import numpy as np\n",
        "\n",
        "# Define the arrays\n",
        "A = np.array([[3, 2, 1, 4],\n",
        "              [5, 2, 1, 6]])\n",
        "\n",
        "B = np.array([[3, 2, 1, 4],\n",
        "              [5, 2, 0, 6]])\n",
        "\n",
        "C = np.array([[True, False, False],\n",
        "              [True, True, True]])\n",
        "\n",
        "D = np.array([0.1, 0.3])\n",
        "\n",
        "# Check if all elements in each array evaluate to True\n",
        "print(\"A:\", np.all(A))\n",
        "print(\"B:\", np.all(B))\n",
        "print(\"C:\", np.all(C))\n",
        "print(\"D:\", np.all(D))\n"
      ],
      "metadata": {
        "colab": {
          "base_uri": "https://localhost:8080/"
        },
        "id": "b3SgdRBCcmdA",
        "outputId": "b797d4c6-0087-47bc-b823-4211d03da375"
      },
      "execution_count": 6,
      "outputs": [
        {
          "output_type": "stream",
          "name": "stdout",
          "text": [
            "A: True\n",
            "B: False\n",
            "C: False\n",
            "D: True\n"
          ]
        }
      ]
    },
    {
      "cell_type": "markdown",
      "source": [
        "```python\n",
        " 2.Check if all elements from the following arrays return the logical value True along the axis with index 1:\n",
        "\n",
        "\n",
        "A = np.array([[3, 2, 1, 4],\n",
        "              [5, 2, 1, 6]])\n",
        "\n",
        "B = np.array([[3, 2, 1, 4],\n",
        "              [5, 2, 0, 6]])\n",
        "\n",
        "C = np.array([[True, False, False],\n",
        "              [True, True, True]])\n",
        "```\n",
        "\n",
        "Print result to the console as shown below.\n",
        "\n",
        "Tip: Use the function np.all() with the axis argument.\n",
        "\n",
        "Expected result:\n",
        "```\n",
        "A: [ True  True]\n",
        "B: [ True False]\n",
        "C: [False  True]\n",
        "```"
      ],
      "metadata": {
        "id": "30X-zryfePxu"
      }
    },
    {
      "cell_type": "code",
      "source": [
        "import numpy as np\n",
        "\n",
        "A = np.array([[3, 2, 1, 4],\n",
        "              [5, 2, 1, 6]])\n",
        "\n",
        "B = np.array([[3, 2, 1, 4],\n",
        "              [5, 2, 0, 6]])\n",
        "\n",
        "C = np.array([[True, False, False],\n",
        "              [True, True, True]])\n",
        "\n",
        "results = {'A': np.all(A, axis=1),\n",
        "           'B': np.all(B, axis=1),\n",
        "           'C': np.all(C, axis=1)}\n",
        "\n",
        "for key, value in results.items():\n",
        "    print(f\"{key}: {value}\")\n"
      ],
      "metadata": {
        "colab": {
          "base_uri": "https://localhost:8080/"
        },
        "id": "z-r2hfkmgGnZ",
        "outputId": "aecd8d57-5fed-4a4b-cc54-51b9675adb44"
      },
      "execution_count": 8,
      "outputs": [
        {
          "output_type": "stream",
          "name": "stdout",
          "text": [
            "A: [ True  True]\n",
            "B: [ True False]\n",
            "C: [False  True]\n"
          ]
        }
      ]
    }
  ]
}