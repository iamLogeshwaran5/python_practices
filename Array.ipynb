{
  "nbformat": 4,
  "nbformat_minor": 0,
  "metadata": {
    "colab": {
      "provenance": [],
      "authorship_tag": "ABX9TyNc6k5auDlYVZ8D6Tgjhn1r",
      "include_colab_link": true
    },
    "kernelspec": {
      "name": "python3",
      "display_name": "Python 3"
    },
    "language_info": {
      "name": "python"
    }
  },
  "cells": [
    {
      "cell_type": "markdown",
      "metadata": {
        "id": "view-in-github",
        "colab_type": "text"
      },
      "source": [
        "<a href=\"https://colab.research.google.com/github/iamLogeshwaran5/python_practices/blob/main/Array.ipynb\" target=\"_parent\"><img src=\"https://colab.research.google.com/assets/colab-badge.svg\" alt=\"Open In Colab\"/></a>"
      ]
    },
    {
      "cell_type": "markdown",
      "source": [
        "**ARRAY**\n",
        "\n",
        "---\n",
        "\n",
        "\n",
        "\n",
        "---\n",
        "\n",
        "\n",
        "\n",
        "---\n",
        "\n"
      ],
      "metadata": {
        "id": "C_lIR0-8cZ1Y"
      }
    },
    {
      "cell_type": "markdown",
      "source": [
        "You are given with an array. For each element present in the array your task is to print the next smallest than that number. If it is not smallest print -1\n",
        "\n",
        "Input Description:\n",
        "You are given a number ‘n’ representing size of array. And n space separated numbers.\n",
        "\n",
        "Output Description:\n",
        "Print the next smallest number present in array and -1 if no smallest is present\n",
        "\n",
        "Sample Input :\n",
        "7\n",
        "10 7 9 3 2 1 15\n",
        "Sample Output :\n",
        "7 3 3 2 1 -1 -1"
      ],
      "metadata": {
        "id": "EIbR3Oricahk"
      }
    },
    {
      "cell_type": "code",
      "source": [
        "def next_smallest(arr):\n",
        "    stack = []\n",
        "    result = []\n",
        "\n",
        "    # Traverse the array from right to left\n",
        "    for num in reversed(arr):\n",
        "        # Check if the stack is empty\n",
        "        # If not, pop elements from the stack until a smaller element is found\n",
        "        while stack and stack[-1] >= num:\n",
        "            stack.pop()\n",
        "\n",
        "        # If the stack is empty, append -1 to the result\n",
        "        # Otherwise, append the last element in the stack\n",
        "        if not stack:\n",
        "            result.append(-1)\n",
        "        else:\n",
        "            result.append(stack[-1])\n",
        "\n",
        "        # Push the current number onto the stack\n",
        "        stack.append(num)\n",
        "\n",
        "    # Reverse the result list to get the correct order\n",
        "    result.reverse()\n",
        "\n",
        "    return result\n",
        "\n",
        "# Reading input\n",
        "n = int(input())\n",
        "numbers = list(map(int, input().split()))\n",
        "\n",
        "# Getting the next smallest numbers and printing the output\n",
        "result = next_smallest(numbers)\n",
        "print(*result)\n"
      ],
      "metadata": {
        "colab": {
          "base_uri": "https://localhost:8080/"
        },
        "id": "1MJsjgI9ce5l",
        "outputId": "96d711a0-6cdb-4152-84bf-1513a4facc81"
      },
      "execution_count": 1,
      "outputs": [
        {
          "output_type": "stream",
          "name": "stdout",
          "text": [
            "7\n",
            "10 7 9 3 2 1 15\n",
            "7 3 3 2 1 -1 -1\n"
          ]
        }
      ]
    },
    {
      "cell_type": "code",
      "source": [],
      "metadata": {
        "id": "PKE7wlsleGzT"
      },
      "execution_count": null,
      "outputs": []
    }
  ]
}