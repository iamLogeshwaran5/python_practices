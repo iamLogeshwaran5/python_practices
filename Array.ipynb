{
  "nbformat": 4,
  "nbformat_minor": 0,
  "metadata": {
    "colab": {
      "provenance": [],
      "authorship_tag": "ABX9TyOIOWRKxYiX+CFOOh8rZWun",
      "include_colab_link": true
    },
    "kernelspec": {
      "name": "python3",
      "display_name": "Python 3"
    },
    "language_info": {
      "name": "python"
    }
  },
  "cells": [
    {
      "cell_type": "markdown",
      "metadata": {
        "id": "view-in-github",
        "colab_type": "text"
      },
      "source": [
        "<a href=\"https://colab.research.google.com/github/iamLogeshwaran5/python_practices/blob/main/Array.ipynb\" target=\"_parent\"><img src=\"https://colab.research.google.com/assets/colab-badge.svg\" alt=\"Open In Colab\"/></a>"
      ]
    },
    {
      "cell_type": "markdown",
      "source": [
        "**ARRAY**\n",
        "\n",
        "---\n",
        "\n",
        "\n",
        "\n",
        "---\n",
        "\n",
        "\n",
        "\n",
        "---\n",
        "\n"
      ],
      "metadata": {
        "id": "C_lIR0-8cZ1Y"
      }
    },
    {
      "cell_type": "markdown",
      "source": [
        "You are given with an array. For each element present in the array your task is to print the next smallest than that number. If it is not smallest print -1\n",
        "\n",
        "Input Description:\n",
        "You are given a number ‘n’ representing size of array. And n space separated numbers.\n",
        "\n",
        "Output Description:\n",
        "Print the next smallest number present in array and -1 if no smallest is present\n",
        "\n",
        "Sample Input :\n",
        "7\n",
        "10 7 9 3 2 1 15\n",
        "Sample Output :\n",
        "7 3 3 2 1 -1 -1"
      ],
      "metadata": {
        "id": "EIbR3Oricahk"
      }
    },
    {
      "cell_type": "code",
      "source": [
        "def next_smallest(arr):\n",
        "    stack = []\n",
        "    result = []\n",
        "\n",
        "    # Traverse the array from right to left\n",
        "    for num in reversed(arr):\n",
        "        # Check if the stack is empty\n",
        "        # If not, pop elements from the stack until a smaller element is found\n",
        "        while stack and stack[-1] >= num:\n",
        "            stack.pop()\n",
        "\n",
        "        # If the stack is empty, append -1 to the result\n",
        "        # Otherwise, append the last element in the stack\n",
        "        if not stack:\n",
        "            result.append(-1)\n",
        "        else:\n",
        "            result.append(stack[-1])\n",
        "\n",
        "        # Push the current number onto the stack\n",
        "        stack.append(num)\n",
        "\n",
        "    # Reverse the result list to get the correct order\n",
        "    result.reverse()\n",
        "\n",
        "    return result\n",
        "\n",
        "# Reading input\n",
        "n = int(input())\n",
        "numbers = list(map(int, input().split()))\n",
        "\n",
        "# Getting the next smallest numbers and printing the output\n",
        "result = next_smallest(numbers)\n",
        "print(*result)\n"
      ],
      "metadata": {
        "colab": {
          "base_uri": "https://localhost:8080/"
        },
        "id": "1MJsjgI9ce5l",
        "outputId": "96d711a0-6cdb-4152-84bf-1513a4facc81"
      },
      "execution_count": null,
      "outputs": [
        {
          "output_type": "stream",
          "name": "stdout",
          "text": [
            "7\n",
            "10 7 9 3 2 1 15\n",
            "7 3 3 2 1 -1 -1\n"
          ]
        }
      ]
    },
    {
      "cell_type": "markdown",
      "source": [
        "2.A person saves his monthly saving according to given schema. He saves same amount of money which is equal to the money saved in immediate previous two months. Assume, initially he saved 1000 rupees and in first month he saved another 1000. Your task is to tell how much he had totally saved at the end of ‘n’ months\n",
        "\n",
        "Input Description:\n",
        "You will be given a number ‘n’->No. of months\n",
        "\n",
        "Output Description:\n",
        "Print the total savings at the end of ‘n’ months\n",
        "\n",
        "Sample Input :\n",
        "1\n",
        "Sample Output :\n",
        "2000\n"
      ],
      "metadata": {
        "id": "mxXvPeJtenwB"
      }
    },
    {
      "cell_type": "code",
      "source": [
        "def total_savings(n):\n",
        "    if n <= 0:\n",
        "        return 0\n",
        "\n",
        "    savings = [1000, 1000]  # Initial savings for the first two months\n",
        "\n",
        "    for i in range(2, n):\n",
        "        current_savings = savings[i - 1] + savings[i - 2]\n",
        "        savings.append(current_savings)\n",
        "\n",
        "    return sum(savings)\n",
        "\n",
        "# Reading input\n",
        "n = int(input())\n",
        "\n",
        "# Calculating and printing the total savings\n",
        "result = total_savings(n)\n",
        "print(result)\n"
      ],
      "metadata": {
        "colab": {
          "base_uri": "https://localhost:8080/"
        },
        "id": "PKE7wlsleGzT",
        "outputId": "6c2c28bf-9717-4a4a-dc7b-ea148a715a20"
      },
      "execution_count": null,
      "outputs": [
        {
          "output_type": "stream",
          "name": "stdout",
          "text": [
            "1\n",
            "2000\n"
          ]
        }
      ]
    },
    {
      "cell_type": "code",
      "source": [
        "def total_savings(n):\n",
        "    if n <= 0:\n",
        "        return 0\n",
        "\n",
        "    savings = [1000, 1000]  # Initial savings for the first two months\n",
        "\n",
        "    for i in range(2, n):\n",
        "        current_savings = savings[i - 1] + savings[i - 2]\n",
        "        savings.append(current_savings)\n",
        "\n",
        "    return sum(savings[:n])  # Considering only the savings for 'n' months\n",
        "\n",
        "# Reading input\n",
        "n = int(input())\n",
        "\n",
        "# Calculating and printing the total savings\n",
        "result = total_savings(n)\n",
        "print(result)\n"
      ],
      "metadata": {
        "colab": {
          "base_uri": "https://localhost:8080/"
        },
        "id": "qKzEYByef58v",
        "outputId": "45477f4f-0487-4b6e-e8e6-4170d251517c"
      },
      "execution_count": null,
      "outputs": [
        {
          "output_type": "stream",
          "name": "stdout",
          "text": [
            "1\n",
            "1000\n"
          ]
        }
      ]
    },
    {
      "cell_type": "markdown",
      "source": [
        "3.You are given with two arrays. Your task is to merge the array such that first array is in ascending order and second one in descending order.\n",
        "\n",
        "Input Description:\n",
        "First line contains two integer ‘n’ and ‘m’. ‘n’ denotes length of array 1 and ‘m’ of array 2.Next line contains n space separated numbers and third line contains ‘m’ space separated numbers\n",
        "\n",
        "Output Description:\n",
        "Print a single array in desired order\n",
        "\n",
        "Sample Input :\n",
        "3 3\n",
        "\n",
        "23 15 16\n",
        "\n",
        "357 65 10\n",
        "\n",
        "Sample Output :\n",
        "15 16 23 357 65 10"
      ],
      "metadata": {
        "id": "Xg81Zr2js9sK"
      }
    },
    {
      "cell_type": "code",
      "source": [
        "def merge_arrays(arr1, arr2):\n",
        "    arr1.sort()  # Sorting first array in ascending order\n",
        "    arr2.sort(reverse=True)  # Sorting second array in descending order\n",
        "\n",
        "    merged_array = arr1 + arr2  # Concatenating both arrays\n",
        "\n",
        "    return merged_array\n",
        "\n",
        "# Reading input\n",
        "n, m = map(int, input().split())\n",
        "array1 = list(map(int, input().split()))\n",
        "array2 = list(map(int, input().split()))\n",
        "\n",
        "# Merging arrays in the desired order\n",
        "result = merge_arrays(array1, array2)\n",
        "\n",
        "# Printing the merged array\n",
        "print(*result)\n"
      ],
      "metadata": {
        "colab": {
          "base_uri": "https://localhost:8080/"
        },
        "id": "aeIS68w3tPNs",
        "outputId": "a0349161-0b56-4c34-e478-14db4eef2e7a"
      },
      "execution_count": 1,
      "outputs": [
        {
          "output_type": "stream",
          "name": "stdout",
          "text": [
            "3 3\n",
            "23 15 16\n",
            "357 65 10\n",
            "15 16 23 357 65 10\n"
          ]
        }
      ]
    }
  ]
}